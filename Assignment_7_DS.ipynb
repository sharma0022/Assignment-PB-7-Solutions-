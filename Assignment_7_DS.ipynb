{
 "cells": [
  {
   "cell_type": "markdown",
   "id": "fe858c89",
   "metadata": {},
   "source": [
    "# Assignment 7 Solutions"
   ]
  },
  {
   "cell_type": "raw",
   "id": "36f85fc5",
   "metadata": {},
   "source": [
    "Q.1. What is the name of the feature responsible for generating Regex objects?\n",
    "\n",
    "Ans: The feature responsible for generating regular expression objects is called the \"regular          expression engine\" or \"regex engine\".\n"
   ]
  },
  {
   "cell_type": "code",
   "execution_count": 1,
   "id": "c03c45c3",
   "metadata": {},
   "outputs": [
    {
     "name": "stdout",
     "output_type": "stream",
     "text": [
      "re.compile('some_random_pattern')\n"
     ]
    }
   ],
   "source": [
    "#for example\n",
    "import re\n",
    "x = re.compile(\"some_random_pattern\")\n",
    "type(x)\n",
    "print(x)"
   ]
  },
  {
   "cell_type": "raw",
   "id": "61eeadf1",
   "metadata": {},
   "source": [
    "Q.2. Why do raw strings often appear in Regex objects?\n",
    "\n",
    "Ans: Raw strings are often used in regular expression objects to ensure that special characters,      such as backslashes, are treated as literal characters rather than as escape characters. In      regular expressions, backslashes are used to indicate special sequences, such as the start        of a new line or a specific character group. By using a raw string, the backslash character      is not treated as an escape character, which allows the regular expression to match on the        actual backslash character rather than on a special sequence."
   ]
  },
  {
   "cell_type": "raw",
   "id": "e9a20a88",
   "metadata": {},
   "source": [
    "Q.3. What is the return value of the search() method?\n",
    "\n",
    "Ans: The 'search()' method of a regular expression object returns a match object if a match is        found, otherwise it returns 'None'. A match object contains information about the match,          including the starting and ending position of the match within the searched string, as well      as any subgroups that were captured as part of the match."
   ]
  },
  {
   "cell_type": "code",
   "execution_count": 4,
   "id": "234e70ba",
   "metadata": {},
   "outputs": [
    {
     "name": "stdout",
     "output_type": "stream",
     "text": [
      "Match found: cat\n"
     ]
    }
   ],
   "source": [
    "#for example\n",
    "import re\n",
    "\n",
    "text = \"The cat is cute\"\n",
    "\n",
    "x = re.search(\"cat\", text)\n",
    "\n",
    "if x:\n",
    "  print(\"Match found:\", x.group())\n",
    "else:\n",
    "  print(\"No match found.\")\n"
   ]
  },
  {
   "cell_type": "code",
   "execution_count": 5,
   "id": "8d43e48f",
   "metadata": {},
   "outputs": [
    {
     "name": "stdout",
     "output_type": "stream",
     "text": [
      "Output: <re.Match object; span=(0, 1), match='I'>\n",
      "Output: None\n"
     ]
    }
   ],
   "source": [
    "import re\n",
    "match = re.search('i','Ineuron Full Stack Data Science Program', flags=re.IGNORECASE)\n",
    "print('Output:',match)\n",
    "match = re.search('X','Ineuron Full Stack Data Science Program', flags=re.IGNORECASE)\n",
    "print('Output:',match)"
   ]
  },
  {
   "cell_type": "raw",
   "id": "b886568f",
   "metadata": {},
   "source": [
    "Q.4. From a Match item, how do you get the actual strings that match the pattern?\n",
    "\n",
    "Ans: We can use the group() method on a Match object to get the actual strings that match the          pattern. This method returns the portion of the string that was matched by the regular            expression pattern. If the pattern contains groups, we can use the groups() method to get        the strings that match each group individually."
   ]
  },
  {
   "cell_type": "code",
   "execution_count": 6,
   "id": "1bcdf850",
   "metadata": {},
   "outputs": [
    {
     "name": "stdout",
     "output_type": "stream",
     "text": [
      "Output: Ineuron\n"
     ]
    }
   ],
   "source": [
    "#for example\n",
    "import re\n",
    "match = re.search('ineuron','Ineuron Full Stack Data Science Program', flags=re.IGNORECASE)\n",
    "print('Output:',match.group())"
   ]
  },
  {
   "cell_type": "raw",
   "id": "25c7e8f7",
   "metadata": {},
   "source": [
    "Q.5. In the regex which created from the r'(\\d\\d\\d)-(\\d\\d\\d-\\d\\d\\d\\d)', what does group zero          cover? Group 2? Group 1?\n",
    "\n",
    "Ans: In the Regex r'(\\d\\d\\d)-(\\d\\d\\d-\\d\\d\\d\\d)' the zero group covers the entire pattern match        where as the first group cover (\\d\\d\\d) and the second group cover (\\d\\d\\d-\\d\\d\\d\\d)"
   ]
  },
  {
   "cell_type": "code",
   "execution_count": 8,
   "id": "4d8cb61e",
   "metadata": {},
   "outputs": [
    {
     "name": "stdout",
     "output_type": "stream",
     "text": [
      "('415', '555-4242')\n",
      "415-555-4242\n",
      "415\n",
      "555-4242\n"
     ]
    }
   ],
   "source": [
    "#for example\n",
    "import re\n",
    "phoneNumRegex = re.compile(r'(\\d\\d\\d)-(\\d\\d\\d-\\d\\d\\d\\d)')\n",
    "mo = phoneNumRegex.search('My number is 415-555-4242.')\n",
    "print(mo.groups()) # Prints all groups in a tuple format\n",
    "print(mo.group()) # Always returns the fully matched string \n",
    "print(mo.group(1)) # Returns the first group\n",
    "print(mo.group(2)) # Returns the second group"
   ]
  },
  {
   "cell_type": "raw",
   "id": "204c14bf",
   "metadata": {},
   "source": [
    "Q.6. In standard expression syntax, parentheses and intervals have distinct meanings. How can you      tell a regex that you want it to fit real parentheses and periods?\n",
    "\n",
    "Ans: The \\. \\( and \\) escape characters in the raw string passed to re.compile() will match            actual parenthesis characters."
   ]
  },
  {
   "cell_type": "code",
   "execution_count": 10,
   "id": "279d895a",
   "metadata": {},
   "outputs": [
    {
     "name": "stdout",
     "output_type": "stream",
     "text": [
      "(415) 555-4242\n"
     ]
    }
   ],
   "source": [
    "#for example\n",
    "import re\n",
    "phoneNumRegex = re.compile(r'(\\(\\d\\d\\d\\)) (\\d\\d\\d-\\d\\d\\d\\d)')\n",
    "mo = phoneNumRegex.search('My phone number is (415) 555-4242.')\n",
    "print(mo.group())"
   ]
  },
  {
   "cell_type": "raw",
   "id": "eef4d39f",
   "metadata": {},
   "source": [
    "Q.7. The findall() method returns a string list or a list of string tuples. What causes it to          return one of the two options?\n",
    "\n",
    "Ans: The findall() method returns a list of all non-overlapping matches in the input string, as a      list of strings or a list of tuples of strings, depending on the use of capturing groups in      the regular expression pattern. If the pattern contains no capturing groups, then findall()      will return a list of strings. If the pattern contains capturing groups, then findall() will      return a list of tuples of strings, where each tuple represents a found match and its            subgroups."
   ]
  },
  {
   "cell_type": "code",
   "execution_count": 11,
   "id": "1f6cfd82",
   "metadata": {},
   "outputs": [
    {
     "name": "stdout",
     "output_type": "stream",
     "text": [
      "[('(415)', '555-4242')]\n",
      "['415-555-4242']\n"
     ]
    }
   ],
   "source": [
    "#for example\n",
    "import re\n",
    "phoneNumRegex = re.compile(r'(\\(\\d\\d\\d\\)) (\\d\\d\\d-\\d\\d\\d\\d)')\n",
    "mo = phoneNumRegex.findall('My phone number is (415) 555-4242.')\n",
    "print(mo)\n",
    "\n",
    "# Example Program\n",
    "import re\n",
    "phoneNumRegex = re.compile(r'\\d{3}-\\d{3}-\\d{4}')\n",
    "mo = phoneNumRegex.findall('My number is 415-555-4242.')\n",
    "print(mo) # Prints all groups in a tuple format"
   ]
  },
  {
   "cell_type": "raw",
   "id": "1f973fa9",
   "metadata": {},
   "source": [
    "Q.8. In standard expressions, what does the | character mean?\n",
    "\n",
    "Ans: In Standard Expressions | means OR operator.\n",
    "\n"
   ]
  },
  {
   "cell_type": "raw",
   "id": "cad1eb2c",
   "metadata": {},
   "source": [
    "Q.9. In regular expressions, what does the ?character stand for?\n",
    "\n",
    "Ans: The ? character in regular expressions stands for \"zero or one occurrence\" of the preceding      character or group. It is used as a quantifier, indicating that the preceding element is          optional and can appear either once or not at all. For example, in the regular expression        \"colou?r\", the \"u\" is optional and the expression will match \"color\" or \"colour\".\n"
   ]
  },
  {
   "cell_type": "raw",
   "id": "304e37cc",
   "metadata": {},
   "source": [
    "Q.10.In regular expressions, what is the difference between the + and * characters?\n",
    "\n",
    "Ans: In regular expressions, the + and * characters are both used as quantifiers, indicating the      number of occurrences of the preceding character or group.\n",
    "\n",
    "     The + character stands for \"one or more occurrences\" of the preceding character or group. It      is used to match one or more consecutive occurrences of the preceding element. For example,      in the regular expression \"a+b\", the \"a\" can appear one or more times consecutively, and          will match \"ab\", \"aab\", \"aaaab\", etc.\n",
    "\n",
    "     The * character stands for \"zero or more occurrences\" of the preceding character or group.        It is used to match zero or more consecutive occurrences of the preceding element. For            example, in the regular expression \"a*b\", the \"a\" can appear zero or more times                  consecutively, and will match \"b\", \"ab\", \"aab\", \"aaaab\", etc.\n",
    "\n",
    "     In summary, + requires the preceding element to appear at least once, while * does not            require the preceding element to appear at all."
   ]
  },
  {
   "cell_type": "raw",
   "id": "0cace11e",
   "metadata": {},
   "source": [
    "Q.11. What is the difference between {4} and {4,5} in regular expression?\n",
    "\n",
    "Ans:  In regular expressions, the curly braces { } are used to specify a specific number of             occurrences for the preceding character or group.\n",
    "\n",
    "      The {4} specifies exactly 4 occurrences of the preceding character or group. For example,         in the regular expression \"a{4}b\", the \"a\" must appear exactly 4 times consecutively and         will match \"aaaab\" and nothing else.\n",
    "\n",
    "      The {4,5} specifies a range of occurrences for the preceding character or group. It               indicates that the preceding element can appear between 4 and 5 times consecutively. For         example, in the regular expression \"a{4,5}b\", the \"a\" can appear 4 or 5 times consecutively       and will match \"aaaab\" or \"aaaab\" and nothing else.\n",
    "\n",
    "      In summary, {4} specifies an exact number of occurrences, while {4,5} specifies a range of       occurrences that the preceding element can match."
   ]
  },
  {
   "cell_type": "raw",
   "id": "64639928",
   "metadata": {},
   "source": [
    "Q.12. What do you mean by the \\d, \\w, and \\s shorthand character classes signify in regular             expressions?\n",
    "\n",
    "Ans:  In regular expressions, the \\d, \\w, and \\s shorthand character classes are used to match         specific types of characters. These shorthand character classes are called \"predefined           character classes\" or \"shorthand character sets\".\n",
    "\n",
    "          1. \\d: stands for \"digit\", and matches any single digit character (0-9). For example,                the regular expression \"\\d{3}\" matches any three consecutive digits, such as \"123\"                or \"456\".\n",
    "          \n",
    "          2. \\w: stands for \"word character\", and matches any single alphanumeric character (A-Z,              a-z, 0-9) or underscore (_). For example, the regular expression \"\\w{5}\" matches any              five consecutive word characters, such as \"abc12\" or \"xyz_5\".\n",
    "          \n",
    "          3. \\s: stands for \"whitespace\", and matches any single whitespace character (spaces,                tabs, newlines, etc.). For example, the regular expression \"\\s{3}\" matches any three              consecutive whitespace characters, such as \" \" or \"\\t\\t\\n\".\n",
    "          \n",
    "      These shorthand character classes are useful in situations where we want to match a               specific type of character without having to list out all possible characters. They are           efficient and make the regular expression less complex and more readable."
   ]
  },
  {
   "cell_type": "raw",
   "id": "d3a281f6",
   "metadata": {},
   "source": [
    "Q.13. What do means by \\D, \\W, and \\S shorthand character classes signify in regular expressions?\n",
    "\n",
    "Ans:  In regular expressions, the \\D, \\W, and \\S shorthand character classes are similar to the         \\d, \\w, and \\s shorthand character classes, but with a negated meaning.\n",
    "\n",
    "          1. \\D: stands for \"non-digit\", and matches any single non-digit character (anything                  that is not 0-9). For example, the regular expression \"\\D{3}\" matches any three                  consecutive non-digit characters, such as \"abc\" or \"xyz\".\n",
    "          \n",
    "          2. \\W: stands for \"non-word character\", and matches any single non-alphanumeric                      character (anything that is not A-Z, a-z, 0-9, or underscore _). For example, the                regular expression \"\\W{5}\" matches any five consecutive non-word characters, such as              \"!@#%\" or \"^&*(\".\n",
    "          \n",
    "          3. \\S: stands for \"non-whitespace\", and matches any single non-whitespace character                  (anything that is not a space, tab, newline, etc.). For example, the regular                      expression \"\\S{3}\" matches any three consecutive non-whitespace characters, such as              \"abc\" or \"123\".\n",
    "      These shorthand character classes are useful in situations where you want to match any           character that is not of a specific type. They make the regular expression more efficient,       readable and less complex by negating the meaning of their non-negated versions.\n",
    "\n",
    "\n",
    "\n"
   ]
  },
  {
   "cell_type": "raw",
   "id": "65bc35f9",
   "metadata": {},
   "source": [
    "Q.14. What is the difference between .*? and .*?\n",
    "\n",
    "Ans:  In regular expressions, the .? and . both have the same meaning but with different               behavior.\n",
    "\n",
    "      .* matches any character (except newline) zero or more times, greedily. It tries to match         as many characters as possible before the next characters in the pattern. For example, in         the regular expression \"a.b\", the . will match as many characters as possible between \"a\"         and \"b\", such as \"aaaabbbbbccccc\"\n",
    "\n",
    "      .? matches any character (except newline) zero or more times, but non-greedily. It tries to       match as few characters as possible before the next characters in the pattern. For example,       in the regular expression \"a.?b\", the .*? will match the shortest possible sequence of           characters between \"a\" and \"b\", such as \"aabb\"\n",
    "\n",
    "      In summary, both .* and .? match any character (except newline) zero or more times, but .         matches as many characters as possible while .*? matches as few characters as possible."
   ]
  },
  {
   "cell_type": "raw",
   "id": "f2aa68fc",
   "metadata": {},
   "source": [
    "Q.15. What is the syntax for matching both numbers and lowercase letters with a character class?\n",
    "\n",
    "Ans:  The Synatax is Either [a-z0-9] or [0-9a-z]"
   ]
  },
  {
   "cell_type": "raw",
   "id": "b5d937e8",
   "metadata": {},
   "source": [
    "Q.16. What is the procedure for making a normal expression in regax case insensitive?\n",
    "\n",
    "Ans:  We can pass re.IGNORECASE as a flag to make a noraml expression case insensitive.\n"
   ]
  },
  {
   "cell_type": "raw",
   "id": "c445206b",
   "metadata": {},
   "source": [
    "Q.17. What does the . character normally match? What does it match if re.DOTALL is passed as 2nd       argument in re.compile()?\n",
    "\n",
    "Ans:  Dot . character matches everything in input except newline character .. By passing               re.DOTALL as a flag to re.compile(), you can make the dot character match all characters,         including the newline character."
   ]
  },
  {
   "cell_type": "raw",
   "id": "1381fcb1",
   "metadata": {},
   "source": [
    "Q.18. If numReg = re.compile(r'\\d+'), what will numRegex.sub('X', '11 drummers, 10 pipers, five         rings, 4 hen') return?\n",
    "Ans:  In the given code, numReg is a regular expression pattern that uses the \\d+ quantifier to         match one or more consecutive digits. numRegex.sub('X', '11 drummers, 10 pipers, five             rings, 4 hen') is a method that replaces all the occurrences of the pattern in the input         string with a replacement string \"X\".\n",
    "\n",
    "     In this case, the method will return the following string:\n",
    "     'X drummers, X pipers, five rings, X hen'\n",
    "\n",
    "     It will replace all the consecutive digits in the input string with the replacement string        \"X\". The non-digit characters in the string will remain unchanged."
   ]
  },
  {
   "cell_type": "raw",
   "id": "5090005e",
   "metadata": {},
   "source": [
    "Q.19. What does passing re.VERBOSE as the 2nd argument to re.compile() allow to do?\n",
    "\n",
    "Ans:  When using the re.compile() function to create a regular expression pattern, a second             argument called \"flags\" can be passed to change the behavior of the pattern. One of the           flags that can be used is re.VERBOSE.\n",
    "\n",
    "      Passing re.VERBOSE as the second argument to re.compile() allows to include comments and         whitespace in the regular expression pattern. This makes the pattern more readable and           easier to understand.\n",
    "\n",
    "      When using the re.VERBOSE flag, we can use the \"#\" symbol to start a comment and use             whitespace to separate different parts of the pattern. For example, instead of writing a         regular expression pattern like this:\n",
    "\n",
    "                r'\\d{3}-\\d{2}-\\d{4}'\n",
    "\n",
    "                we can write it like this:\n",
    "\n",
    "                r'''\n",
    "                \\d{3} # area code\n",
    "                - # separator\n",
    "                \\d{2} # first 3 digits\n",
    "                - # separator\n",
    "                \\d{4} # last 4 digits\n",
    "                '''\n",
    "\n",
    "      This makes the pattern more readable and easier to understand, especially when it becomes         more complex.\n",
    "\n",
    "      The re.VERBOSE flag also allows to add whitespace in the pattern which makes it more             readable, but whitespaces are ignored in the matching process.\n",
    "\n",
    "      It's important to note that, when the re.VERBOSE flag is used, the string passed to               re.compile() must be a raw string, that's why it's recommended to use triple quotes \"\"\".\n",
    "\n",
    "\n",
    "\n"
   ]
  },
  {
   "cell_type": "code",
   "execution_count": 14,
   "id": "fa7b77d0",
   "metadata": {},
   "outputs": [],
   "source": [
    "# Without Using VERBOSE\n",
    "regex_email = re.compile(r'^([a-z0-9_\\.-]+)@([0-9a-z\\.-]+)\\.([a-z\\.]{2, 6})$', re.IGNORECASE)\n",
    " \n",
    "# Using VERBOSE\n",
    "regex_email = re.compile(r\"\"\"\n",
    "                            ^([a-z0-9_\\.-]+)              # local Part like username\n",
    "                            @                             # single @ sign \n",
    "                            ([0-9a-z\\.-]+)                # Domain name like google\n",
    "                            \\.                            # single Dot .\n",
    "                            ([a-z]{2,6})$                 # Top level Domain  like com/in/org\n",
    "                         \"\"\",re.VERBOSE | re.IGNORECASE)   "
   ]
  },
  {
   "cell_type": "raw",
   "id": "6dd25a8b",
   "metadata": {},
   "source": [
    "Q.20. How would you write a regex that match a number with comma for every three digits? It             must match the given following:\n",
    "        '42'\n",
    "        '1,234'\n",
    "        '6,368,745'\n",
    "        but not the following:\n",
    "        '12,34,567' (which has only two digits between the commas)\n",
    "        '1234' (which lacks commas)\n",
    "\n",
    "\n",
    "Ans:  '42','1,234', '6,368,745'but not the following: '12,34,567' (which has only two digits          between the commas) '1234' (which lacks commas)\n",
    "\n",
    "\n"
   ]
  },
  {
   "cell_type": "code",
   "execution_count": 15,
   "id": "e90c6af6",
   "metadata": {},
   "outputs": [
    {
     "name": "stdout",
     "output_type": "stream",
     "text": [
      "Output: 42 -> <re.Match object; span=(0, 2), match='42'>\n",
      "Output: 1,234 -> <re.Match object; span=(0, 5), match='1,234'>\n",
      "Output: 6,368,745 -> <re.Match object; span=(0, 9), match='6,368,745'>\n",
      "Output: 12,34,567 -> None\n",
      "Output: 1234 -> None\n"
     ]
    }
   ],
   "source": [
    "import re\n",
    "pattern = r'^\\d{1,3}(,\\d{3})*$'\n",
    "pagex = re.compile(pattern)\n",
    "for ele in ['42','1,234', '6,368,745','12,34,567','1234']:\n",
    "    print('Output:',ele, '->', pagex.search(ele))"
   ]
  },
  {
   "cell_type": "raw",
   "id": "16b31822",
   "metadata": {},
   "source": [
    "Q.21. How would you write a regex that matches the full name of someone whose last name is             Watanabe? You can assume that the first name that comes before it will always be one word         that begins with a capital letter. The regex must match the following:\n",
    "        'Haruto Watanabe'\n",
    "        'Alice Watanabe'\n",
    "        'RoboCop Watanabe'\n",
    "        but not the following:\n",
    "        'haruto Watanabe' (where the first name is not capitalized)\n",
    "        'Mr. Watanabe' (where the preceding word has a nonletter character)\n",
    "        'Watanabe' (which has no first name)\n",
    "        'Haruto watanabe' (where Watanabe is not capitalized)\n",
    "        \n",
    "Ans:  To write a regular expression that matches the full name of someone whose last name is           Watanabe, you can use the following pattern:\n",
    "\n",
    "         r'[A-Z][a-z]+\\sWatanabe'\n",
    "\n",
    "      Explanation:\n",
    "\n",
    "         [A-Z] - matches a single uppercase letter.\n",
    "         [a-z]+ - matches one or more lowercase letters.\n",
    "         \\s - matches a single whitespace character.\n",
    "         Watanabe - matches the exact string \"Watanabe\".\n",
    "         \n",
    "      This pattern will match the full name of someone whose last name is Watanabe, where the           first name that comes before it will always be one word that begins with a capital letter.\n",
    "\n",
    "      Examples:\n",
    "\n",
    "         'Haruto Watanabe' will match\n",
    "         'Alice Watanabe' will match\n",
    "         'RoboCop Watanabe' will match\n",
    "         \n",
    "      It will not match:\n",
    "\n",
    "         'haruto Watanabe' (where the first name is not capitalized)\n",
    "         'Mr. Watanabe' (where the preceding word has a nonletter character)\n",
    "         'Watanabe' (which has no first name)\n",
    "         'Haruto watanabe' (where Watanabe is not capitalized)\n",
    "         \n",
    "      This pattern ensures that, the first word starts with a capital letter and ends with a           space, followed by the last name Watanabe in uppercase letters.\n",
    "\n"
   ]
  },
  {
   "cell_type": "code",
   "execution_count": 17,
   "id": "25bc9a85",
   "metadata": {},
   "outputs": [
    {
     "name": "stdout",
     "output_type": "stream",
     "text": [
      "Output:  Haruto Watanabe -> <re.Match object; span=(0, 15), match='Haruto Watanabe'>\n",
      "Output:  Alice Watanabe -> <re.Match object; span=(0, 14), match='Alice Watanabe'>\n",
      "Output:  RoboCop Watanabe -> <re.Match object; span=(4, 16), match='Cop Watanabe'>\n",
      "Output:  haruto Watanabe -> None\n",
      "Output:  Mr. Watanabe -> None\n",
      "Output:  Watanabe -> None\n",
      "Output:  Haruto watanabe -> None\n"
     ]
    }
   ],
   "source": [
    "import re\n",
    "pattern = r'[A-Z]{1}[a-z]*\\sWatanabe'\n",
    "namex = re.compile(pattern)\n",
    "for name in ['Haruto Watanabe','Alice Watanabe','RoboCop Watanabe','haruto Watanabe','Mr. Watanabe','Watanabe','Haruto watanabe']:\n",
    "    print('Output: ',name,'->',namex.search(name))"
   ]
  },
  {
   "cell_type": "raw",
   "id": "cfe8b10e",
   "metadata": {},
   "source": [
    "Q.22. How would you write a regex that matches a sentence where the first word is either Alice,         Bob, or Carol; the second word is either eats, pets, or throws; the third word is apples,         cats, or baseballs; and the sentence ends with a period? This regex should be case-               insensitive. It must match the following:\n",
    "        'Alice eats apples.'\n",
    "        'Bob pets cats.'\n",
    "        'Carol throws baseballs.'\n",
    "        'Alice throws Apples.'\n",
    "        'BOB EATS CATS.'\n",
    "      but not the following:\n",
    "        'RoboCop eats apples.'\n",
    "        'ALICE THROWS FOOTBALLS.'\n",
    "        'Carol eats 7 cats.'\n",
    "\n",
    "Ans:  The regex to match a sentence where the first word is either Alice, Bob, or Carol; the           second word is either eats, pets, or throws; the third word is apples, cats, or baseballs;       and the sentence ends with a period would be:\n",
    "\n",
    "      \"(?i)^(Alice|Bob|Carol) (eats|pets|throws) (apples|cats|baseballs).$\"\n",
    "\n",
    "      This regex uses the following elements:\n",
    "\n",
    "        (?i) at the beginning is the \"case-insensitive\" flag\n",
    "        \n",
    "        ^ asserts position at start of the line\n",
    "        \n",
    "        (Alice|Bob|Carol) matches the first word, which can be \"Alice\", \"Bob\", or \"Carol\"\n",
    "        \n",
    "        (eats|pets|throws) matches the second word, which can be \"eats\", \"pets\", or \"throws\"\n",
    "        \n",
    "        (apples|cats|baseballs) matches the third word, which can be \"apples\", \"cats\", or                 \"baseballs\"\n",
    "        \n",
    "        . matches a period literally\n",
    "        \n",
    "        $ asserts position at the end of the line\n",
    "\n",
    "\n"
   ]
  },
  {
   "cell_type": "code",
   "execution_count": 16,
   "id": "99b2cc33",
   "metadata": {},
   "outputs": [
    {
     "name": "stdout",
     "output_type": "stream",
     "text": [
      "Output:  Alice eats apples. -> <re.Match object; span=(0, 18), match='Alice eats apples.'>\n",
      "Output:  Bob pets cats. -> <re.Match object; span=(0, 14), match='Bob pets cats.'>\n",
      "Output:  Carol throws baseballs. -> <re.Match object; span=(0, 23), match='Carol throws baseballs.'>\n",
      "Output:  Alice throws Apples. -> <re.Match object; span=(0, 20), match='Alice throws Apples.'>\n",
      "Output:  BOB EATS CATS. -> <re.Match object; span=(0, 14), match='BOB EATS CATS.'>\n",
      "Output:  RoboCop eats apples. -> None\n",
      "Output:  ALICE THROWS FOOTBALLS. -> None\n",
      "Output:  Carol eats 7 cats. -> None\n"
     ]
    }
   ],
   "source": [
    "import re\n",
    "pattern = r'(Alice|Bob|Carol)\\s(eats|pets|throws)\\s(apples|cats|baseballs)\\.'\n",
    "casex = re.compile(pattern,re.IGNORECASE)\n",
    "for ele in ['Alice eats apples.','Bob pets cats.','Carol throws baseballs.','Alice throws Apples.','BOB EATS CATS.','RoboCop eats apples.'\n",
    ",'ALICE THROWS FOOTBALLS.','Carol eats 7 cats.']:\n",
    "    print('Output: ',ele,'->',casex.search(ele))"
   ]
  },
  {
   "cell_type": "code",
   "execution_count": null,
   "id": "7553a326",
   "metadata": {},
   "outputs": [],
   "source": []
  }
 ],
 "metadata": {
  "kernelspec": {
   "display_name": "Python 3 (ipykernel)",
   "language": "python",
   "name": "python3"
  },
  "language_info": {
   "codemirror_mode": {
    "name": "ipython",
    "version": 3
   },
   "file_extension": ".py",
   "mimetype": "text/x-python",
   "name": "python",
   "nbconvert_exporter": "python",
   "pygments_lexer": "ipython3",
   "version": "3.9.12"
  }
 },
 "nbformat": 4,
 "nbformat_minor": 5
}
